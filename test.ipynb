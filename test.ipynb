{
 "cells": [
  {
   "cell_type": "code",
   "execution_count": 1,
   "metadata": {},
   "outputs": [],
   "source": [
    "import scipy\n",
    "from scipy.interpolate import griddata\n",
    "import numpy as np\n",
    "import matplotlib.pyplot as plt\n",
    "import cv2\n",
    "import torch\n",
    "import torch.nn as nn\n",
    "import torch.nn.functional as F\n",
    "from scipy.spatial import Delaunay"
   ]
  },
  {
   "cell_type": "code",
   "execution_count": 2,
   "metadata": {},
   "outputs": [
    {
     "data": {
      "text/plain": [
       "<matplotlib.image.AxesImage at 0x7f097b08ad70>"
      ]
     },
     "execution_count": 2,
     "metadata": {},
     "output_type": "execute_result"
    },
    {
     "data": {
      "image/png": "[encoded data removed]",
      "text/plain": [
       "<Figure size 640x480 with 1 Axes>"
      ]
     },
     "metadata": {},
     "output_type": "display_data"
    }
   ],
   "source": [
    "\n",
    "from utils import read_image, move_pixels_numpy, create_rect_mesh\n",
    "from net import ConformalNet, check_inside_unit_disk, move_pixels_inverse_torch\n",
    "from bc import diff_operator, bc_metric, get_area\n",
    "\n",
    "from main import get_data\n",
    "\n",
    "img, f_map = get_data()\n",
    "\n",
    "plt.imshow(img[1,0])"
   ]
  },
  {
   "cell_type": "code",
   "execution_count": null,
   "metadata": {},
   "outputs": [],
   "source": []
  },
  {
   "cell_type": "code",
   "execution_count": 3,
   "metadata": {},
   "outputs": [
    {
     "name": "stderr",
     "output_type": "stream",
     "text": [
      "/home/extradisk/linchenran/.pyenv/versions/3.10.11/envs/hbs_seg/lib/python3.10/site-packages/torch/functional.py:504: UserWarning: torch.meshgrid: in an upcoming release, it will be required to pass the indexing argument. (Triggered internally at ../aten/src/ATen/native/TensorShape.cpp:3483.)\n",
      "  return _VF.meshgrid(tensors, **kwargs)  # type: ignore[attr-defined]\n"
     ]
    }
   ],
   "source": [
    "face, vertex_0 = create_rect_mesh(256, 256)\n",
    "Dx, Dy = diff_operator(face, vertex_0.reshape(-1, 2))"
   ]
  },
  {
   "cell_type": "code",
   "execution_count": 4,
   "metadata": {},
   "outputs": [],
   "source": [
    "vertex = f_map[1,:,:,:].reshape(-1, 2).double()\n",
    "e1 = vertex[face[:,2]] - vertex[face[:,1]]\n",
    "e2 = vertex[face[:,0]] - vertex[face[:,2]]\n",
    "e3 = vertex[face[:,1]] - vertex[face[:,0]]\n",
    "\n",
    "xa, ya = e2[:, 0], e2[:, 1]\n",
    "xb, yb = e1[:, 0], e1[:, 1]\n",
    "area0 = (xb * ya - xa * yb) / 2"
   ]
  },
  {
   "cell_type": "code",
   "execution_count": 5,
   "metadata": {},
   "outputs": [],
   "source": [
    "# vertex = f_map[0,:,:,:].reshape(-1, 2).double()\n",
    "de1=Dx.mm(vertex)\n",
    "de2=Dy.mm(vertex)\n",
    "\n",
    "# area = (e1x.pow(2)+e1y.pow(2)).sqrt() * (e2x.pow(2)+e2y.pow(2)).sqrt() / 2\n",
    "# area"
   ]
  },
  {
   "cell_type": "code",
   "execution_count": 35,
   "metadata": {},
   "outputs": [],
   "source": [
    "def get_area(f_map, Dx, Dy):\n",
    "    N, H, W, _ = f_map.shape\n",
    "    f_map = f_map.reshape(N, -1, 2).transpose(0, 1).double()\n",
    "    fx = f_map[:, :, 0]\n",
    "    fy = f_map[:, :, 1]\n",
    "\n",
    "    e1x = Dx.mm(fx).transpose(0, 1)\n",
    "    e1y = Dx.mm(fy).transpose(0, 1)\n",
    "    e2x = Dy.mm(fx).transpose(0, 1)\n",
    "    e2y = Dy.mm(fy).transpose(0, 1)\n",
    "    \n",
    "    area = (e1x * e2y - e1y * e2x) / 2\n",
    "    return area\n",
    "\n",
    "area = get_area(f_map, Dx, Dy)"
   ]
  },
  {
   "cell_type": "code",
   "execution_count": 7,
   "metadata": {},
   "outputs": [],
   "source": [
    "is_inside = img.reshape(5, -1)[:, face].all(2)"
   ]
  },
  {
   "cell_type": "code",
   "execution_count": 84,
   "metadata": {},
   "outputs": [
    {
     "data": {
      "text/plain": [
       "tensor(90.7365, dtype=torch.float64)"
      ]
     },
     "execution_count": 84,
     "metadata": {},
     "output_type": "execute_result"
    }
   ],
   "source": [
    "eps = 1e-9\n",
    "torch.tanh(1e-5 / (area[is_inside]+eps)).norm()\n"
   ]
  },
  {
   "cell_type": "code",
   "execution_count": 15,
   "metadata": {},
   "outputs": [
    {
     "data": {
      "text/plain": [
       "(tensor([1434, 1433, 1178], dtype=torch.int32),\n",
       " tensor([[-0.9866,  0.1633],\n",
       "         [-0.9866,  0.1633],\n",
       "         [-0.9866,  0.1633]], dtype=torch.float64),\n",
       " tensor([0., 0.], dtype=torch.float64),\n",
       " tensor([0., 0.], dtype=torch.float64),\n",
       " tensor([0., 0.], dtype=torch.float64),\n",
       " tensor(0., dtype=torch.float64),\n",
       " tensor(0., dtype=torch.float64))"
      ]
     },
     "execution_count": 15,
     "metadata": {},
     "output_type": "execute_result"
    }
   ],
   "source": [
    "n = 61255\n",
    "face[n], vertex[face[n]], e1[n], e2[n],e3[n], area0[n], area[1,n]"
   ]
  },
  {
   "cell_type": "code",
   "execution_count": 92,
   "metadata": {},
   "outputs": [
    {
     "data": {
      "text/plain": [
       "tensor([[[True, True, True,  ..., True, True, True],\n",
       "         [True, True, True,  ..., True, True, True],\n",
       "         [True, True, True,  ..., True, True, True],\n",
       "         ...,\n",
       "         [True, True, True,  ..., True, True, True],\n",
       "         [True, True, True,  ..., True, True, True],\n",
       "         [True, True, True,  ..., True, True, True]],\n",
       "\n",
       "        [[True, True, True,  ..., True, True, True],\n",
       "         [True, True, True,  ..., True, True, True],\n",
       "         [True, True, True,  ..., True, True, True],\n",
       "         ...,\n",
       "         [True, True, True,  ..., True, True, True],\n",
       "         [True, True, True,  ..., True, True, True],\n",
       "         [True, True, True,  ..., True, True, True]],\n",
       "\n",
       "        [[True, True, True,  ..., True, True, True],\n",
       "         [True, True, True,  ..., True, True, True],\n",
       "         [True, True, True,  ..., True, True, True],\n",
       "         ...,\n",
       "         [True, True, True,  ..., True, True, True],\n",
       "         [True, True, True,  ..., True, True, True],\n",
       "         [True, True, True,  ..., True, True, True]],\n",
       "\n",
       "        [[True, True, True,  ..., True, True, True],\n",
       "         [True, True, True,  ..., True, True, True],\n",
       "         [True, True, True,  ..., True, True, True],\n",
       "         ...,\n",
       "         [True, True, True,  ..., True, True, True],\n",
       "         [True, True, True,  ..., True, True, True],\n",
       "         [True, True, True,  ..., True, True, True]],\n",
       "\n",
       "        [[True, True, True,  ..., True, True, True],\n",
       "         [True, True, True,  ..., True, True, True],\n",
       "         [True, True, True,  ..., True, True, True],\n",
       "         ...,\n",
       "         [True, True, True,  ..., True, True, True],\n",
       "         [True, True, True,  ..., True, True, True],\n",
       "         [True, True, True,  ..., True, True, True]]])"
      ]
     },
     "execution_count": 92,
     "metadata": {},
     "output_type": "execute_result"
    }
   ],
   "source": [
    "(img>0.5).reshape(5, 256, 256) == img.reshape(5, 256, 256)"
   ]
  },
  {
   "cell_type": "code",
   "execution_count": null,
   "metadata": {},
   "outputs": [],
   "source": [
    "r = move_pixels_numpy(img[0], f_map[0] * 80+125)\n",
    "plt.imshow(r[0])"
   ]
  },
  {
   "cell_type": "code",
   "execution_count": null,
   "metadata": {},
   "outputs": [],
   "source": [
    "def check_inside_unit_disk(vertex: torch.Tensor, k=1e9):\n",
    "    '''\n",
    "    INPUT:\n",
    "        vertex: N x H x W x 2 tensor\n",
    "            original cordination of each pixel\n",
    "    OUTPUT:\n",
    "        result: N X H x W tensor\n",
    "            whether the pixel is inside the unit circle\n",
    "    '''\n",
    "    # return torch.tanh((1 - torch.norm(vertex, 2, 3))*k) / 2 + 0.5\n",
    "    return torch.sigmoid((1 - torch.norm(vertex, 2, 3))*k)\n",
    "\n",
    "K = check_inside_unit_disk(f_map.reshape(1,H,W,2), 1e8).reshape(H,W)\n",
    "plt.imshow(K, cmap='gray')\n",
    "K.min(), K.max()"
   ]
  },
  {
   "cell_type": "code",
   "execution_count": null,
   "metadata": {},
   "outputs": [],
   "source": [
    "unit_disk_points = (vertex * 4 - 2 * torch.DoubleTensor([W, H]).reshape(1,1,2)) / min(H,W)\n",
    "unit_disk = check_inside_unit_disk(unit_disk_points.reshape(1,H,W,2)).reshape(H,W)\n",
    "plt.imshow(unit_disk)"
   ]
  },
  {
   "cell_type": "code",
   "execution_count": null,
   "metadata": {},
   "outputs": [],
   "source": [
    "img_circle = move_pixels_numpy(img[0,0].numpy(), f_map_rescale.numpy(), vertex.numpy())\n",
    "plt.imshow(img_circle)"
   ]
  },
  {
   "cell_type": "code",
   "execution_count": null,
   "metadata": {},
   "outputs": [],
   "source": [
    "# plt.imshow(img_m[0,0])\n",
    "# img_circle_torch = torch.tensor(img_circle.reshape(1,1,*img.shape))\n",
    "img_circle_torch = unit_disk.reshape(1,1,H,W)\n",
    "f_map_torch = f_map_rescale.reshape(1, H, W, 2)\n",
    "\n",
    "img_inverse = move_pixels_inverse_torch(img_circle_torch, f_map_torch).reshape(H,W)\n",
    "plt.imshow(img_inverse)"
   ]
  },
  {
   "cell_type": "code",
   "execution_count": null,
   "metadata": {},
   "outputs": [],
   "source": [
    "Dx, Dy = diff_operator(face, vertex.reshape(-1,2))\n",
    "new_mu = bc_metric(f_map.reshape(1,H,W,2), Dx, Dy)\n",
    "face_center = vertex.reshape(-1,2)[face[:,:], :].mean(1)\n",
    "plt.figure(figsize=(15,15))\n",
    "plt.imshow(img[0,0], cmap='gray')\n",
    "plt.scatter(face_center[:,0], face_center[:, 1],s=0.1, c=new_mu[0].abs(), cmap='jet')"
   ]
  },
  {
   "cell_type": "code",
   "execution_count": null,
   "metadata": {},
   "outputs": [],
   "source": [
    "net = ConformalNet(H, W)\n",
    "output = net(img)\n",
    "loss = net.loss(output.double(), img)\n",
    "loss"
   ]
  },
  {
   "cell_type": "code",
   "execution_count": null,
   "metadata": {},
   "outputs": [],
   "source": []
  }
 ],
 "metadata": {
  "kernelspec": {
   "display_name": "amd_torch",
   "language": "python",
   "name": "python3"
  },
  "language_info": {
   "codemirror_mode": {
    "name": "ipython",
    "version": 3
   },
   "file_extension": ".py",
   "mimetype": "text/x-python",
   "name": "python",
   "nbconvert_exporter": "python",
   "pygments_lexer": "ipython3",
   "version": "3.10.11"
  }
 },
 "nbformat": 4,
 "nbformat_minor": 2
}
